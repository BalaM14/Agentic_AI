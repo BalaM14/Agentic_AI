{
 "cells": [
  {
   "cell_type": "code",
   "execution_count": 1,
   "metadata": {},
   "outputs": [],
   "source": [
    "import os\n",
    "from dotenv import load_dotenv\n",
    "from from_root import from_root"
   ]
  },
  {
   "cell_type": "code",
   "execution_count": null,
   "metadata": {},
   "outputs": [
    {
     "data": {
      "text/plain": [
       "True"
      ]
     },
     "execution_count": 2,
     "metadata": {},
     "output_type": "execute_result"
    }
   ],
   "source": [
    "load_dotenv(from_root(\".env\"), override=True)           #Restart the kernel if same environment variable is getting displayed"
   ]
  },
  {
   "cell_type": "code",
   "execution_count": 3,
   "metadata": {},
   "outputs": [],
   "source": [
    "os.environ[\"OPENAI_API_KEY\"]=os.getenv(\"OPENAI_API_KEY\")\n",
    "\n",
    "# Langchain Tracking & Tracing\n",
    "\n",
    "os.environ[\"LANGCHAIN_API_KEY\"]=os.getenv(\"LANGCHAIN_API_KEY\")\n",
    "os.environ[\"LANGCHAIN_PROJECT\"]=\"OPEN_AI_PROJECT\"\n",
    "os.environ[\"LANGCHAIN_TRACING_V2\"]=\"true\""
   ]
  },
  {
   "cell_type": "code",
   "execution_count": null,
   "metadata": {},
   "outputs": [],
   "source": [
    "print(os.getenv(\"OPENAI_API_KEY\"))\n",
    "print(os.getenv(\"LANGCHAIN_API_KEY\"))\n",
    "print(os.getenv(\"LANGCHAIN_PROJECT\"))\n",
    "print(os.getenv(\"LANGCHAIN_TRACING_V2\"))"
   ]
  },
  {
   "cell_type": "code",
   "execution_count": 5,
   "metadata": {},
   "outputs": [
    {
     "name": "stdout",
     "output_type": "stream",
     "text": [
      "client=<openai.resources.chat.completions.Completions object at 0x00000292E26ADBB0> async_client=<openai.resources.chat.completions.AsyncCompletions object at 0x00000292E21AC830> root_client=<openai.OpenAI object at 0x00000292E25553A0> root_async_client=<openai.AsyncOpenAI object at 0x00000292E26ADC10> model_name='o1-mini' temperature=1.0 model_kwargs={} openai_api_key=SecretStr('**********')\n"
     ]
    }
   ],
   "source": [
    "from langchain_openai import ChatOpenAI\n",
    "\n",
    "llm=ChatOpenAI(model=\"o1-mini\")\n",
    "print(llm)"
   ]
  },
  {
   "cell_type": "code",
   "execution_count": 8,
   "metadata": {},
   "outputs": [],
   "source": [
    "result=llm.invoke(\"what is most favourite dish for dog\")"
   ]
  },
  {
   "cell_type": "code",
   "execution_count": 9,
   "metadata": {},
   "outputs": [
    {
     "name": "stdout",
     "output_type": "stream",
     "text": [
      "Dogs, much like humans, have their own unique preferences when it comes to food. While individual tastes can vary, several dishes and ingredients are generally favored by many dogs. Here are some of the most popular and favorite foods for dogs:\n",
      "\n",
      "### 1. **Lean Meats**\n",
      "- **Chicken:** Cooked, boneless chicken is a favorite for many dogs. It's a great source of protein and is easily digestible.\n",
      "- **Beef:** Lean beef can be offered in moderation as a tasty treat.\n",
      "- **Turkey:** Similar to chicken, turkey is a lean option that many dogs enjoy.\n",
      "\n",
      "### 2. **Fish**\n",
      "- **Salmon:** Cooked salmon is not only delicious for dogs but also rich in omega-3 fatty acids, which are good for their skin and coat.\n",
      "- **Whitefish:** Other types of whitefish can also be a healthy choice when properly cooked.\n",
      "\n",
      "### 3. **Vegetables**\n",
      "- **Carrots:** Crunchy and naturally sweet, carrots are a favorite low-calorie treat.\n",
      "- **Green Beans:** Many dogs enjoy the texture and taste of green beans.\n",
      "- **Sweet Potatoes:** Cooked sweet potatoes are nutritious and appealing to dogs.\n",
      "\n",
      "### 4. **Fruits**\n",
      "- **Apples:** Sliced apples (without seeds) can be a refreshing treat.\n",
      "- **Blueberries:** These are packed with antioxidants and are a hit with many dogs.\n",
      "- **Bananas:** In moderation, bananas can be a sweet treat that dogs love.\n",
      "\n",
      "### 5. **Rice and Pasta**\n",
      "- **Plain Rice:** Especially useful for dogs with an upset stomach, plain cooked rice is gentle and satisfying.\n",
      "- **Pasta:** Plain, cooked pasta can be a tasty addition to a dog's meal occasionally.\n",
      "\n",
      "### 6. **Peanut Butter**\n",
      "- **Natural Peanut Butter:** Many dogs adore the taste of peanut butter. It's great for stuffing in toys or giving as a treat, but ensure it's free from xylitol, which is toxic to dogs.\n",
      "\n",
      "### 7. **Eggs**\n",
      "- **Scrambled or Boiled Eggs:** Eggs are an excellent source of protein and can be served cooked to avoid the risk of salmonella.\n",
      "\n",
      "### 8. **Yogurt**\n",
      "- **Plain Yogurt:** A good source of calcium and probiotics, plain yogurt can be a healthy treat. Avoid flavored yogurts that contain added sugars or artificial sweeteners.\n",
      "\n",
      "### 9. **Pumpkin**\n",
      "- **Canned or Cooked Pumpkin:** Plain pumpkin is beneficial for a dog's digestive health and is generally enjoyed for its unique flavor.\n",
      "\n",
      "### 10. **Dog-Specific Treats**\n",
      "- **Commercial Dog Treats:** There are numerous flavors and types available that are specifically formulated to be safe and appealing to dogs.\n",
      "- **Homemade Treats:** Many owners make homemade dog treats using dog-safe ingredients, allowing for customization based on the dog's preferences.\n",
      "\n",
      "### Important Considerations\n",
      "\n",
      "- **Avoid Toxic Foods:** Certain foods are toxic to dogs and should always be avoided. These include chocolate, grapes, raisins, onions, garlic, avocados, alcohol, caffeine, and foods containing xylitol.\n",
      "  \n",
      "- **Moderation is Key:** Even favorite foods should be given in moderation to prevent obesity and digestive issues. Treats should not make up more than 10% of a dog's daily caloric intake.\n",
      "  \n",
      "- **Consult Your Veterinarian:** Before introducing new foods into your dog's diet, especially if your dog has health conditions or dietary restrictions, it's best to consult with a veterinarian.\n",
      "\n",
      "### Conclusion\n",
      "\n",
      "While dogs have their favorite dishes and treats, it's essential to ensure that their diet is balanced and safe. Offering a variety of dog-safe foods can keep mealtime interesting and nutritious for your furry friend. Always prioritize their health and well-being by choosing appropriate foods and consulting with professionals when needed.\n"
     ]
    }
   ],
   "source": [
    "print(result.content)"
   ]
  },
  {
   "cell_type": "code",
   "execution_count": null,
   "metadata": {},
   "outputs": [],
   "source": []
  }
 ],
 "metadata": {
  "kernelspec": {
   "display_name": "Python 3",
   "language": "python",
   "name": "python3"
  },
  "language_info": {
   "codemirror_mode": {
    "name": "ipython",
    "version": 3
   },
   "file_extension": ".py",
   "mimetype": "text/x-python",
   "name": "python",
   "nbconvert_exporter": "python",
   "pygments_lexer": "ipython3",
   "version": "3.12.0"
  }
 },
 "nbformat": 4,
 "nbformat_minor": 2
}
