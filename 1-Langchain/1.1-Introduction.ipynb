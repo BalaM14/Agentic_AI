{
 "cells": [
  {
   "cell_type": "code",
   "execution_count": 3,
   "metadata": {},
   "outputs": [
    {
     "data": {
      "text/plain": [
       "True"
      ]
     },
     "execution_count": 3,
     "metadata": {},
     "output_type": "execute_result"
    }
   ],
   "source": [
    "import os\n",
    "from dotenv import load_dotenv\n",
    "load_dotenv()"
   ]
  },
  {
   "cell_type": "code",
   "execution_count": 4,
   "metadata": {},
   "outputs": [],
   "source": [
    "os.environ[\"OPENAI_API_KEY\"]=os.getenv(\"OPENAI_API_KEY\")\n",
    "\n",
    "# Langchain Tracking & Tracing\n",
    "\n",
    "os.environ[\"LANGCHAIN_API_KEY\"]=os.getenv(\"LANGCHAIN_API_KEY\")\n",
    "os.environ[\"LANGCHAIN_PROJECT\"]=os.getenv(\"LANGCHAIN_PROJECT\")\n",
    "os.environ[\"LANGCHAIN_TRACING_V2\"]=\"true\""
   ]
  },
  {
   "cell_type": "code",
   "execution_count": 5,
   "metadata": {},
   "outputs": [
    {
     "name": "stdout",
     "output_type": "stream",
     "text": [
      "client=<openai.resources.chat.completions.Completions object at 0x0000015D41306D20> async_client=<openai.resources.chat.completions.AsyncCompletions object at 0x0000015D41318A10> root_client=<openai.OpenAI object at 0x0000015D411BE420> root_async_client=<openai.AsyncOpenAI object at 0x0000015D41306CF0> model_name='o1-mini' temperature=1.0 model_kwargs={} openai_api_key=SecretStr('**********')\n"
     ]
    }
   ],
   "source": [
    "from langchain_openai import ChatOpenAI\n",
    "\n",
    "llm=ChatOpenAI(model=\"o1-mini\")\n",
    "print(llm)"
   ]
  },
  {
   "cell_type": "code",
   "execution_count": 6,
   "metadata": {},
   "outputs": [],
   "source": [
    "result=llm.invoke(\"What is Agentic AI\")"
   ]
  },
  {
   "cell_type": "code",
   "execution_count": 7,
   "metadata": {},
   "outputs": [
    {
     "name": "stdout",
     "output_type": "stream",
     "text": [
      "**Agentic AI** refers to artificial intelligence systems designed with a degree of autonomy and the capacity to make decisions or take actions independently to achieve specific goals. The term \"agentic\" is derived from \"agency,\" which in this context implies the ability of an AI system to perceive its environment, reason about it, and act upon it without constant human oversight.\n",
      "\n",
      "### Key Characteristics of Agentic AI:\n",
      "\n",
      "1. **Autonomy:** Agentic AI can operate without continuous human guidance, making independent decisions based on predefined objectives and real-time data inputs.\n",
      "\n",
      "2. **Goal-Oriented Behavior:** These AI systems are designed to achieve specific goals or outcomes. They can plan, prioritize tasks, and adjust their strategies to meet these objectives effectively.\n",
      "\n",
      "3. **Adaptability:** Agentic AI can learn from interactions with its environment, allowing it to adapt to new situations, handle uncertainties, and improve its performance over time.\n",
      "\n",
      "4. **Perception and Reasoning:** Such AI systems are equipped with sensors or data inputs to perceive their environment and employ reasoning mechanisms to interpret information and make informed decisions.\n",
      "\n",
      "5. **Action Execution:** Beyond decision-making, agentic AI can execute actions, whether in digital environments (like software agents) or physical settings (like robotics).\n",
      "\n",
      "### Applications of Agentic AI:\n",
      "\n",
      "- **Autonomous Vehicles:** Self-driving cars navigate roads, make real-time driving decisions, and adapt to changing traffic conditions without human intervention.\n",
      "  \n",
      "- **Robotics:** Service robots in industries like manufacturing or healthcare perform tasks autonomously, adjusting to dynamic environments and requirements.\n",
      "  \n",
      "- **Smart Assistants:** Advanced virtual assistants can manage schedules, control smart home devices, and perform tasks like ordering supplies or scheduling appointments autonomously.\n",
      "  \n",
      "- **Financial Trading Systems:** These AI agents can execute trades, manage investment portfolios, and respond to market changes in real-time without human traders.\n",
      "\n",
      "### Ethical and Safety Considerations:\n",
      "\n",
      "While agentic AI offers significant benefits in terms of efficiency and capability, it also raises important ethical and safety concerns:\n",
      "\n",
      "- **Autonomy vs. Control:** Ensuring that autonomous AI systems act in alignment with human values and intentions is crucial to prevent unintended behaviors.\n",
      "\n",
      "- **Accountability:** Determining who is responsible for the actions of autonomous AI—whether it's the developers, operators, or the AI itself—is a complex issue.\n",
      "\n",
      "- **Bias and Fairness:** Autonomous decision-making systems must be designed to avoid biases in their algorithms to ensure fair and equitable outcomes.\n",
      "\n",
      "- **Security:** Protecting agentic AI from malicious interventions or manipulations is essential to maintain their reliability and safety.\n",
      "\n",
      "### Future of Agentic AI:\n",
      "\n",
      "The development of agentic AI continues to advance rapidly, driven by improvements in machine learning, natural language processing, robotics, and other related fields. As these systems become more sophisticated, they are expected to play increasingly significant roles in various sectors, enhancing productivity and enabling new capabilities. However, balancing innovation with ethical considerations and robust safety measures remains a critical focus for researchers, developers, policymakers, and society at large.\n",
      "\n",
      "---\n",
      "\n",
      "**In Summary:** Agentic AI represents a class of artificial intelligence systems endowed with a level of autonomy and decision-making ability that allows them to perform tasks and achieve goals independently. While offering numerous advantages across different applications, the deployment of agentic AI necessitates careful consideration of ethical, safety, and accountability issues to ensure their responsible and beneficial integration into society.\n"
     ]
    }
   ],
   "source": [
    "print(result.content)"
   ]
  },
  {
   "cell_type": "code",
   "execution_count": null,
   "metadata": {},
   "outputs": [],
   "source": []
  }
 ],
 "metadata": {
  "kernelspec": {
   "display_name": "Python 3",
   "language": "python",
   "name": "python3"
  },
  "language_info": {
   "codemirror_mode": {
    "name": "ipython",
    "version": 3
   },
   "file_extension": ".py",
   "mimetype": "text/x-python",
   "name": "python",
   "nbconvert_exporter": "python",
   "pygments_lexer": "ipython3",
   "version": "3.12.0"
  }
 },
 "nbformat": 4,
 "nbformat_minor": 2
}
