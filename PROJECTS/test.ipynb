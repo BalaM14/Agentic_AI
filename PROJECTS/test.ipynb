{
 "cells": [
  {
   "cell_type": "code",
   "execution_count": 3,
   "metadata": {},
   "outputs": [
    {
     "name": "stdout",
     "output_type": "stream",
     "text": [
      "[HumanMessage(content='I am 30 years old, male, 75 kg, and 1.75 meters tall. Calculate my BMI and suggest a diet plan for weight loss with expenses.', additional_kwargs={}, response_metadata={}, id='189462fc-bb50-4360-96c2-4d923ed4e86c'), AIMessage(content='', additional_kwargs={'tool_calls': [{'id': 'call_K2ndmiV8KueZjd6VwKVDxNll', 'function': {'arguments': '{\"weight_kg\":75,\"height_m\":1.75,\"age\":30,\"gender\":\"male\"}', 'name': 'calculate_bmi'}, 'type': 'function'}], 'refusal': None}, response_metadata={'token_usage': {'completion_tokens': 33, 'prompt_tokens': 196, 'total_tokens': 229, 'completion_tokens_details': {'accepted_prediction_tokens': 0, 'audio_tokens': 0, 'reasoning_tokens': 0, 'rejected_prediction_tokens': 0}, 'prompt_tokens_details': {'audio_tokens': 0, 'cached_tokens': 0}}, 'model_name': 'gpt-4o-2024-08-06', 'system_fingerprint': 'fp_6dd05565ef', 'finish_reason': 'tool_calls', 'logprobs': None}, id='run-e32ee8e5-e05b-4006-88c6-d16c0d45bf92-0', tool_calls=[{'name': 'calculate_bmi', 'args': {'weight_kg': 75, 'height_m': 1.75, 'age': 30, 'gender': 'male'}, 'id': 'call_K2ndmiV8KueZjd6VwKVDxNll', 'type': 'tool_call'}], usage_metadata={'input_tokens': 196, 'output_tokens': 33, 'total_tokens': 229, 'input_token_details': {'audio': 0, 'cache_read': 0}, 'output_token_details': {'audio': 0, 'reasoning': 0}}), ToolMessage(content='BMI: 24.49, Category: Normal weight. ', name='calculate_bmi', id='c34032f1-b479-43dc-bd4a-ce12f4b950d6', tool_call_id='call_K2ndmiV8KueZjd6VwKVDxNll'), AIMessage(content='', additional_kwargs={'tool_calls': [{'id': 'call_Gs9Fe2cYMNmLEf3P3t83vB3Y', 'function': {'arguments': '{\"bmi_category\":\"Normal weight\",\"dietary_preference\":\"weight loss\"}', 'name': 'generate_diet_plan'}, 'type': 'function'}], 'refusal': None}, response_metadata={'token_usage': {'completion_tokens': 28, 'prompt_tokens': 250, 'total_tokens': 278, 'completion_tokens_details': {'accepted_prediction_tokens': 0, 'audio_tokens': 0, 'reasoning_tokens': 0, 'rejected_prediction_tokens': 0}, 'prompt_tokens_details': {'audio_tokens': 0, 'cached_tokens': 0}}, 'model_name': 'gpt-4o-2024-08-06', 'system_fingerprint': 'fp_6dd05565ef', 'finish_reason': 'tool_calls', 'logprobs': None}, id='run-633ab8cf-b3ee-4e10-b259-e0a14f57b55a-0', tool_calls=[{'name': 'generate_diet_plan', 'args': {'bmi_category': 'Normal weight', 'dietary_preference': 'weight loss'}, 'id': 'call_Gs9Fe2cYMNmLEf3P3t83vB3Y', 'type': 'tool_call'}], usage_metadata={'input_tokens': 250, 'output_tokens': 28, 'total_tokens': 278, 'input_token_details': {'audio': 0, 'cache_read': 0}, 'output_token_details': {'audio': 0, 'reasoning': 0}}), ToolMessage(content=\"Here is your meal plan based on Normal weight: {'breakfast': 'Scrambled eggs with whole-grain toast & fruit', 'lunch': 'Grilled salmon with quinoa & greens', 'snack': 'Greek yogurt with honey & berries', 'dinner': 'Chicken stir-fry with vegetables & brown rice'}\", name='generate_diet_plan', id='48d7bc63-e50c-4e62-972b-fe145ded4d73', tool_call_id='call_Gs9Fe2cYMNmLEf3P3t83vB3Y'), AIMessage(content='', additional_kwargs={'tool_calls': [{'id': 'call_l283DxxhVkxshBo4pOxDbhbA', 'function': {'arguments': '{\"diet_type\":\"weight loss\",\"gym_membership\":true}', 'name': 'calculate_fitness_expenses'}, 'type': 'function'}], 'refusal': None}, response_metadata={'token_usage': {'completion_tokens': 26, 'prompt_tokens': 353, 'total_tokens': 379, 'completion_tokens_details': {'accepted_prediction_tokens': 0, 'audio_tokens': 0, 'reasoning_tokens': 0, 'rejected_prediction_tokens': 0}, 'prompt_tokens_details': {'audio_tokens': 0, 'cached_tokens': 0}}, 'model_name': 'gpt-4o-2024-08-06', 'system_fingerprint': 'fp_6dd05565ef', 'finish_reason': 'tool_calls', 'logprobs': None}, id='run-8e3b82af-8096-40e1-844d-9efdce651cfe-0', tool_calls=[{'name': 'calculate_fitness_expenses', 'args': {'diet_type': 'weight loss', 'gym_membership': True}, 'id': 'call_l283DxxhVkxshBo4pOxDbhbA', 'type': 'tool_call'}], usage_metadata={'input_tokens': 353, 'output_tokens': 26, 'total_tokens': 379, 'input_token_details': {'audio': 0, 'cache_read': 0}, 'output_token_details': {'audio': 0, 'reasoning': 0}}), ToolMessage(content='Estimated monthly expense for a weight loss diet with a gym membership: ₹7000', name='calculate_fitness_expenses', id='508075fe-fb30-4e31-a50a-fb5a77bbc97d', tool_call_id='call_l283DxxhVkxshBo4pOxDbhbA'), AIMessage(content='Based on your BMI of 24.49, you fall into the \"Normal weight\" category. Here\\'s a suggested diet plan for weight loss:\\n\\n- **Breakfast**: Scrambled eggs with whole-grain toast & fruit\\n- **Lunch**: Grilled salmon with quinoa & greens\\n- **Snack**: Greek yogurt with honey & berries\\n- **Dinner**: Chicken stir-fry with vegetables & brown rice\\n\\nTo support your weight loss goals, including a gym membership along with your dietary plan, the estimated monthly expense would be approximately ₹7000. This includes costs for both the diet and gym.', additional_kwargs={'refusal': None}, response_metadata={'token_usage': {'completion_tokens': 125, 'prompt_tokens': 405, 'total_tokens': 530, 'completion_tokens_details': {'accepted_prediction_tokens': 0, 'audio_tokens': 0, 'reasoning_tokens': 0, 'rejected_prediction_tokens': 0}, 'prompt_tokens_details': {'audio_tokens': 0, 'cached_tokens': 0}}, 'model_name': 'gpt-4o-2024-08-06', 'system_fingerprint': 'fp_6dd05565ef', 'finish_reason': 'stop', 'logprobs': None}, id='run-75e15531-9941-4365-bafd-2f9b818e0a92-0', usage_metadata={'input_tokens': 405, 'output_tokens': 125, 'total_tokens': 530, 'input_token_details': {'audio': 0, 'cache_read': 0}, 'output_token_details': {'audio': 0, 'reasoning': 0}})]\n"
     ]
    }
   ],
   "source": [
    "from typing_extensions import TypedDict\n",
    "from langchain_core.messages import AnyMessage\n",
    "from langgraph.graph.message import add_messages\n",
    "from typing import Annotated\n",
    "from langchain_openai import ChatOpenAI\n",
    "from langgraph.graph import START,StateGraph\n",
    "from langgraph.prebuilt import tools_condition, ToolNode\n",
    "from IPython.display import Image,display\n",
    "\n",
    "def calculate_bmi(weight_kg: float, height_m: float, age: int, gender: str) -> str:\n",
    "    \"\"\"\n",
    "    Calculates the BMI and returns the BMI category along with insights based on age & gender.\n",
    "    \"\"\"\n",
    "    bmi = weight_kg / (height_m ** 2)\n",
    "    \n",
    "    if bmi < 18.5:\n",
    "        category = \"Underweight\"\n",
    "    elif 18.5 <= bmi < 24.9:\n",
    "        category = \"Normal weight\"\n",
    "    elif 25 <= bmi < 29.9:\n",
    "        category = \"Overweight\"\n",
    "    else:\n",
    "        category = \"Obese\"\n",
    "\n",
    "    insight = \"\"\n",
    "    if age < 18:\n",
    "        insight = \"For children/teens, use BMI percentiles instead of fixed ranges.\"\n",
    "    elif age >= 65:\n",
    "        insight = \"For older adults, BMI may not reflect body fat accurately due to muscle loss.\"\n",
    "    \n",
    "    if gender.lower() == \"female\" and bmi > 24.9:\n",
    "        insight += \" Women naturally have a higher body fat percentage, so BMI alone may not be the best measure.\"\n",
    "    \n",
    "    return f\"BMI: {round(bmi, 2)}, Category: {category}. {insight}\"\n",
    "\n",
    "# Define Diet Plan Tool\n",
    "\n",
    "def generate_diet_plan(bmi_category: str, dietary_preference: str = \"balanced\") -> str:\n",
    "    \"\"\"\n",
    "    Generates a diet plan based on BMI category and dietary preference.\n",
    "    \"\"\"\n",
    "    diet_plans = {\n",
    "        \"Underweight\": {\n",
    "            \"breakfast\": \"Oatmeal with nuts & banana + Whole milk\",\n",
    "            \"lunch\": \"Grilled chicken/fish with rice & vegetables\",\n",
    "            \"snack\": \"Protein smoothie with nuts & peanut butter\",\n",
    "            \"dinner\": \"Eggs, avocado toast & fruit juice\"\n",
    "        },\n",
    "        \"Normal weight\": {\n",
    "            \"breakfast\": \"Scrambled eggs with whole-grain toast & fruit\",\n",
    "            \"lunch\": \"Grilled salmon with quinoa & greens\",\n",
    "            \"snack\": \"Greek yogurt with honey & berries\",\n",
    "            \"dinner\": \"Chicken stir-fry with vegetables & brown rice\"\n",
    "        },\n",
    "        \"Overweight\": {\n",
    "            \"breakfast\": \"Boiled eggs with whole wheat toast & green tea\",\n",
    "            \"lunch\": \"Grilled chicken with salad & olive oil dressing\",\n",
    "            \"snack\": \"Nuts & seeds mix or hummus with veggies\",\n",
    "            \"dinner\": \"Grilled fish with steamed vegetables\"\n",
    "        },\n",
    "        \"Obese\": {\n",
    "            \"breakfast\": \"Omelette with spinach & black coffee\",\n",
    "            \"lunch\": \"Grilled lean protein (chicken/fish) with steamed broccoli\",\n",
    "            \"snack\": \"Almonds & walnuts\",\n",
    "            \"dinner\": \"Soup with mixed greens & grilled protein\"\n",
    "        }\n",
    "    }\n",
    "\n",
    "    meal_plan = diet_plans.get(bmi_category, \"No specific plan available\")\n",
    "\n",
    "    # Modify based on dietary preference\n",
    "    if dietary_preference == \"vegetarian\":\n",
    "        for meal in meal_plan:\n",
    "            meal_plan[meal] = meal_plan[meal].replace(\"chicken\", \"paneer\").replace(\"fish\", \"tofu\").replace(\"eggs\", \"chickpeas\")\n",
    "    elif dietary_preference == \"high_protein\":\n",
    "        for meal in meal_plan:\n",
    "            meal_plan[meal] += \" + Extra protein source (Whey protein, Lentils, Beans)\"\n",
    "    elif dietary_preference == \"keto\":\n",
    "        for meal in meal_plan:\n",
    "            meal_plan[meal] = meal_plan[meal].replace(\"rice\", \"cauliflower rice\").replace(\"quinoa\", \"zucchini noodles\").replace(\"fruit\", \"avocado\")\n",
    "\n",
    "    return f\"Here is your meal plan based on {bmi_category}: {meal_plan}\"\n",
    "\n",
    "# Define Financial Expense Calculation Tool\n",
    "def calculate_fitness_expenses(diet_type: str, gym_membership: bool) -> str:\n",
    "    \"\"\"\n",
    "    Estimates the monthly expense based on diet and fitness choices.\n",
    "    \"\"\"\n",
    "    cost_estimates = {\n",
    "        \"balanced\": 5000,\n",
    "        \"vegetarian\": 4500,\n",
    "        \"high_protein\": 6000,\n",
    "        \"keto\": 7000\n",
    "    }\n",
    "    \n",
    "    gym_cost = 2000 if gym_membership else 0\n",
    "    total_cost = cost_estimates.get(diet_type, 5000) + gym_cost\n",
    "    \n",
    "    return f\"Estimated monthly expense for a {diet_type} diet with {'a gym membership' if gym_membership else 'no gym membership'}: ₹{total_cost}\"\n",
    "\n",
    "# Create the LangChain Agent with the tools\n",
    "tools = [calculate_bmi, generate_diet_plan, calculate_fitness_expenses]\n",
    "\n",
    "llm=ChatOpenAI(model='gpt-4o')\n",
    "\n",
    "llm_with_tools=llm.bind_tools(tools,parallel_tool_calls=False)\n",
    "\n",
    "\n",
    "class MessagesState(TypedDict):\n",
    "    messages:Annotated[list[AnyMessage],add_messages]\n",
    "\n",
    "\n",
    "from langchain_core.messages import HumanMessage,SystemMessage\n",
    "\n",
    "##System Message\n",
    "sys_msg=SystemMessage(content=\"You are a helpful assistant tasked with health and financial guidance.\")\n",
    "\n",
    "def assistant(state:MessagesState):\n",
    "    return {\"messages\":[llm_with_tools.invoke([sys_msg] + state[\"messages\"])]}\n",
    "\n",
    "builder=StateGraph(MessagesState)\n",
    "\n",
    "## Define the node\n",
    "builder.add_node(\"assistant\",assistant)\n",
    "builder.add_node(\"tools\",ToolNode(tools))\n",
    "\n",
    "## Define the edges\n",
    "builder.add_edge(START,\"assistant\")\n",
    "builder.add_conditional_edges(\n",
    "    \"assistant\",\n",
    "    # If the latest message (result) from assistant is a tool call -> tools_condition routes to tools\n",
    "    # If the latest message (result) from assistant is a not a tool call -> tools_condition routes to END\n",
    "    tools_condition,\n",
    ")\n",
    "\n",
    "builder.add_edge(\"tools\",\"assistant\")\n",
    "\n",
    "react_graph=builder.compile()   \n",
    "\n",
    "messages=[HumanMessage(content=\"I am 30 years old, male, 75 kg, and 1.75 meters tall. Calculate my BMI and suggest a diet plan for weight loss with expenses.\")]\n",
    "messages=react_graph.invoke({\"messages\":messages})\n",
    "\n",
    "print(messages['messages'])"
   ]
  },
  {
   "cell_type": "code",
   "execution_count": 4,
   "metadata": {},
   "outputs": [
    {
     "name": "stdout",
     "output_type": "stream",
     "text": [
      "content='I am 30 years old, male, 75 kg, and 1.75 meters tall. Calculate my BMI and suggest a diet plan for weight loss with expenses.' additional_kwargs={} response_metadata={} id='189462fc-bb50-4360-96c2-4d923ed4e86c'\n",
      "content='' additional_kwargs={'tool_calls': [{'id': 'call_K2ndmiV8KueZjd6VwKVDxNll', 'function': {'arguments': '{\"weight_kg\":75,\"height_m\":1.75,\"age\":30,\"gender\":\"male\"}', 'name': 'calculate_bmi'}, 'type': 'function'}], 'refusal': None} response_metadata={'token_usage': {'completion_tokens': 33, 'prompt_tokens': 196, 'total_tokens': 229, 'completion_tokens_details': {'accepted_prediction_tokens': 0, 'audio_tokens': 0, 'reasoning_tokens': 0, 'rejected_prediction_tokens': 0}, 'prompt_tokens_details': {'audio_tokens': 0, 'cached_tokens': 0}}, 'model_name': 'gpt-4o-2024-08-06', 'system_fingerprint': 'fp_6dd05565ef', 'finish_reason': 'tool_calls', 'logprobs': None} id='run-e32ee8e5-e05b-4006-88c6-d16c0d45bf92-0' tool_calls=[{'name': 'calculate_bmi', 'args': {'weight_kg': 75, 'height_m': 1.75, 'age': 30, 'gender': 'male'}, 'id': 'call_K2ndmiV8KueZjd6VwKVDxNll', 'type': 'tool_call'}] usage_metadata={'input_tokens': 196, 'output_tokens': 33, 'total_tokens': 229, 'input_token_details': {'audio': 0, 'cache_read': 0}, 'output_token_details': {'audio': 0, 'reasoning': 0}}\n",
      "content='BMI: 24.49, Category: Normal weight. ' name='calculate_bmi' id='c34032f1-b479-43dc-bd4a-ce12f4b950d6' tool_call_id='call_K2ndmiV8KueZjd6VwKVDxNll'\n",
      "content='' additional_kwargs={'tool_calls': [{'id': 'call_Gs9Fe2cYMNmLEf3P3t83vB3Y', 'function': {'arguments': '{\"bmi_category\":\"Normal weight\",\"dietary_preference\":\"weight loss\"}', 'name': 'generate_diet_plan'}, 'type': 'function'}], 'refusal': None} response_metadata={'token_usage': {'completion_tokens': 28, 'prompt_tokens': 250, 'total_tokens': 278, 'completion_tokens_details': {'accepted_prediction_tokens': 0, 'audio_tokens': 0, 'reasoning_tokens': 0, 'rejected_prediction_tokens': 0}, 'prompt_tokens_details': {'audio_tokens': 0, 'cached_tokens': 0}}, 'model_name': 'gpt-4o-2024-08-06', 'system_fingerprint': 'fp_6dd05565ef', 'finish_reason': 'tool_calls', 'logprobs': None} id='run-633ab8cf-b3ee-4e10-b259-e0a14f57b55a-0' tool_calls=[{'name': 'generate_diet_plan', 'args': {'bmi_category': 'Normal weight', 'dietary_preference': 'weight loss'}, 'id': 'call_Gs9Fe2cYMNmLEf3P3t83vB3Y', 'type': 'tool_call'}] usage_metadata={'input_tokens': 250, 'output_tokens': 28, 'total_tokens': 278, 'input_token_details': {'audio': 0, 'cache_read': 0}, 'output_token_details': {'audio': 0, 'reasoning': 0}}\n",
      "content=\"Here is your meal plan based on Normal weight: {'breakfast': 'Scrambled eggs with whole-grain toast & fruit', 'lunch': 'Grilled salmon with quinoa & greens', 'snack': 'Greek yogurt with honey & berries', 'dinner': 'Chicken stir-fry with vegetables & brown rice'}\" name='generate_diet_plan' id='48d7bc63-e50c-4e62-972b-fe145ded4d73' tool_call_id='call_Gs9Fe2cYMNmLEf3P3t83vB3Y'\n",
      "content='' additional_kwargs={'tool_calls': [{'id': 'call_l283DxxhVkxshBo4pOxDbhbA', 'function': {'arguments': '{\"diet_type\":\"weight loss\",\"gym_membership\":true}', 'name': 'calculate_fitness_expenses'}, 'type': 'function'}], 'refusal': None} response_metadata={'token_usage': {'completion_tokens': 26, 'prompt_tokens': 353, 'total_tokens': 379, 'completion_tokens_details': {'accepted_prediction_tokens': 0, 'audio_tokens': 0, 'reasoning_tokens': 0, 'rejected_prediction_tokens': 0}, 'prompt_tokens_details': {'audio_tokens': 0, 'cached_tokens': 0}}, 'model_name': 'gpt-4o-2024-08-06', 'system_fingerprint': 'fp_6dd05565ef', 'finish_reason': 'tool_calls', 'logprobs': None} id='run-8e3b82af-8096-40e1-844d-9efdce651cfe-0' tool_calls=[{'name': 'calculate_fitness_expenses', 'args': {'diet_type': 'weight loss', 'gym_membership': True}, 'id': 'call_l283DxxhVkxshBo4pOxDbhbA', 'type': 'tool_call'}] usage_metadata={'input_tokens': 353, 'output_tokens': 26, 'total_tokens': 379, 'input_token_details': {'audio': 0, 'cache_read': 0}, 'output_token_details': {'audio': 0, 'reasoning': 0}}\n",
      "content='Estimated monthly expense for a weight loss diet with a gym membership: ₹7000' name='calculate_fitness_expenses' id='508075fe-fb30-4e31-a50a-fb5a77bbc97d' tool_call_id='call_l283DxxhVkxshBo4pOxDbhbA'\n",
      "content='Based on your BMI of 24.49, you fall into the \"Normal weight\" category. Here\\'s a suggested diet plan for weight loss:\\n\\n- **Breakfast**: Scrambled eggs with whole-grain toast & fruit\\n- **Lunch**: Grilled salmon with quinoa & greens\\n- **Snack**: Greek yogurt with honey & berries\\n- **Dinner**: Chicken stir-fry with vegetables & brown rice\\n\\nTo support your weight loss goals, including a gym membership along with your dietary plan, the estimated monthly expense would be approximately ₹7000. This includes costs for both the diet and gym.' additional_kwargs={'refusal': None} response_metadata={'token_usage': {'completion_tokens': 125, 'prompt_tokens': 405, 'total_tokens': 530, 'completion_tokens_details': {'accepted_prediction_tokens': 0, 'audio_tokens': 0, 'reasoning_tokens': 0, 'rejected_prediction_tokens': 0}, 'prompt_tokens_details': {'audio_tokens': 0, 'cached_tokens': 0}}, 'model_name': 'gpt-4o-2024-08-06', 'system_fingerprint': 'fp_6dd05565ef', 'finish_reason': 'stop', 'logprobs': None} id='run-75e15531-9941-4365-bafd-2f9b818e0a92-0' usage_metadata={'input_tokens': 405, 'output_tokens': 125, 'total_tokens': 530, 'input_token_details': {'audio': 0, 'cache_read': 0}, 'output_token_details': {'audio': 0, 'reasoning': 0}}\n"
     ]
    }
   ],
   "source": [
    "for m in messages['messages']:\n",
    "    print(m)"
   ]
  },
  {
   "cell_type": "code",
   "execution_count": 5,
   "metadata": {},
   "outputs": [
    {
     "name": "stdout",
     "output_type": "stream",
     "text": [
      "I am 30 years old, male, 75 kg, and 1.75 meters tall. Calculate my BMI and suggest a diet plan for weight loss with expenses.\n"
     ]
    }
   ],
   "source": [
    "print(messages['messages'][0].content)"
   ]
  },
  {
   "cell_type": "code",
   "execution_count": 6,
   "metadata": {},
   "outputs": [
    {
     "name": "stdout",
     "output_type": "stream",
     "text": [
      "Based on your BMI of 24.49, you fall into the \"Normal weight\" category. Here's a suggested diet plan for weight loss:\n",
      "\n",
      "- **Breakfast**: Scrambled eggs with whole-grain toast & fruit\n",
      "- **Lunch**: Grilled salmon with quinoa & greens\n",
      "- **Snack**: Greek yogurt with honey & berries\n",
      "- **Dinner**: Chicken stir-fry with vegetables & brown rice\n",
      "\n",
      "To support your weight loss goals, including a gym membership along with your dietary plan, the estimated monthly expense would be approximately ₹7000. This includes costs for both the diet and gym.\n"
     ]
    }
   ],
   "source": [
    "print(messages['messages'][-1].content)"
   ]
  },
  {
   "cell_type": "code",
   "execution_count": 7,
   "metadata": {},
   "outputs": [
    {
     "name": "stdout",
     "output_type": "stream",
     "text": [
      "Tool Call: calculate_bmi() \n",
      "BMI: 24.49, Category: Normal weight.  \n",
      "=================================================\n",
      "\n",
      "Tool Call: generate_diet_plan() \n",
      "Here is your meal plan based on Normal weight: {'breakfast': 'Scrambled eggs with whole-grain toast & fruit', 'lunch': 'Grilled salmon with quinoa & greens', 'snack': 'Greek yogurt with honey & berries', 'dinner': 'Chicken stir-fry with vegetables & brown rice'} \n",
      "=================================================\n",
      "\n",
      "Tool Call: calculate_fitness_expenses() \n",
      "Estimated monthly expense for a weight loss diet with a gym membership: ₹7000 \n",
      "=================================================\n",
      "\n",
      "Based on your BMI of 24.49, you fall into the \"Normal weight\" category. Here's a suggested diet plan for weight loss:\n",
      "\n",
      "- **Breakfast**: Scrambled eggs with whole-grain toast & fruit\n",
      "- **Lunch**: Grilled salmon with quinoa & greens\n",
      "- **Snack**: Greek yogurt with honey & berries\n",
      "- **Dinner**: Chicken stir-fry with vegetables & brown rice\n",
      "\n",
      "To support your weight loss goals, including a gym membership along with your dietary plan, the estimated monthly expense would be approximately ₹7000. This includes costs for both the diet and gym.\n"
     ]
    }
   ],
   "source": [
    "for m in messages['messages']:\n",
    "    if m.name is not None:\n",
    "        print(f\"Tool Call: {m.name}() \\n{m.content} \\n=================================================\\n\")\n",
    "\n",
    "print(messages['messages'][-1].content)"
   ]
  },
  {
   "cell_type": "code",
   "execution_count": 8,
   "metadata": {},
   "outputs": [
    {
     "data": {
      "image/png": "[encoded data removed]",
      "text/plain": [
       "<IPython.core.display.Image object>"
      ]
     },
     "metadata": {},
     "output_type": "display_data"
    }
   ],
   "source": [
    "from IPython.display import Image, display\n",
    "display(Image(react_graph.get_graph().draw_mermaid_png()))"
   ]
  },
  {
   "cell_type": "code",
   "execution_count": null,
   "metadata": {},
   "outputs": [],
   "source": []
  }
 ],
 "metadata": {
  "kernelspec": {
   "display_name": "Python 3",
   "language": "python",
   "name": "python3"
  },
  "language_info": {
   "codemirror_mode": {
    "name": "ipython",
    "version": 3
   },
   "file_extension": ".py",
   "mimetype": "text/x-python",
   "name": "python",
   "nbconvert_exporter": "python",
   "pygments_lexer": "ipython3",
   "version": "3.12.0"
  }
 },
 "nbformat": 4,
 "nbformat_minor": 2
}
